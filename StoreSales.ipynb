version https://git-lfs.github.com/spec/v1
oid sha256:d5e50d91e6aecd816fd361f03c256878ee209efe19641d10374b919704da4c63
size 8396982
