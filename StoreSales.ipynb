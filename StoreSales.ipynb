version https://git-lfs.github.com/spec/v1
oid sha256:51a2d77c3101ec93b31ee12c291588eb1b57edd73074accd6200262b63a8591a
size 371920
